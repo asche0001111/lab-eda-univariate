{
 "cells": [
  {
   "cell_type": "code",
   "execution_count": 1,
   "id": "8d45a990-fb6b-439c-bc1b-0162316994de",
   "metadata": {},
   "outputs": [],
   "source": [
    "import pandas as pd\n",
    "import matplotlib.pyplot as plt\n",
    "import seaborn as sns\n",
    "import numpy as np\n",
    "\n",
    "%matplotlib inline"
   ]
  },
  {
   "cell_type": "code",
   "execution_count": 2,
   "id": "98887e47-b027-4ec8-911f-60c6310c156b",
   "metadata": {},
   "outputs": [],
   "source": [
    "df = pd.read_csv(\"/Users/akirichenko/Downloads/amz_uk_price_prediction_dataset.csv\")"
   ]
  },
  {
   "cell_type": "code",
   "execution_count": 3,
   "id": "5066baeb-46e3-41cd-b446-9daff0a32ead",
   "metadata": {},
   "outputs": [
    {
     "data": {
      "text/html": [
       "<div>\n",
       "<style scoped>\n",
       "    .dataframe tbody tr th:only-of-type {\n",
       "        vertical-align: middle;\n",
       "    }\n",
       "\n",
       "    .dataframe tbody tr th {\n",
       "        vertical-align: top;\n",
       "    }\n",
       "\n",
       "    .dataframe thead th {\n",
       "        text-align: right;\n",
       "    }\n",
       "</style>\n",
       "<table border=\"1\" class=\"dataframe\">\n",
       "  <thead>\n",
       "    <tr style=\"text-align: right;\">\n",
       "      <th></th>\n",
       "      <th>uid</th>\n",
       "      <th>asin</th>\n",
       "      <th>title</th>\n",
       "      <th>stars</th>\n",
       "      <th>reviews</th>\n",
       "      <th>price</th>\n",
       "      <th>isBestSeller</th>\n",
       "      <th>boughtInLastMonth</th>\n",
       "      <th>category</th>\n",
       "    </tr>\n",
       "  </thead>\n",
       "  <tbody>\n",
       "    <tr>\n",
       "      <th>0</th>\n",
       "      <td>1</td>\n",
       "      <td>B09B96TG33</td>\n",
       "      <td>Echo Dot (5th generation, 2022 release) | Big ...</td>\n",
       "      <td>4.7</td>\n",
       "      <td>15308</td>\n",
       "      <td>21.99</td>\n",
       "      <td>False</td>\n",
       "      <td>0</td>\n",
       "      <td>Hi-Fi Speakers</td>\n",
       "    </tr>\n",
       "    <tr>\n",
       "      <th>1</th>\n",
       "      <td>2</td>\n",
       "      <td>B01HTH3C8S</td>\n",
       "      <td>Anker Soundcore mini, Super-Portable Bluetooth...</td>\n",
       "      <td>4.7</td>\n",
       "      <td>98099</td>\n",
       "      <td>23.99</td>\n",
       "      <td>True</td>\n",
       "      <td>0</td>\n",
       "      <td>Hi-Fi Speakers</td>\n",
       "    </tr>\n",
       "    <tr>\n",
       "      <th>2</th>\n",
       "      <td>3</td>\n",
       "      <td>B09B8YWXDF</td>\n",
       "      <td>Echo Dot (5th generation, 2022 release) | Big ...</td>\n",
       "      <td>4.7</td>\n",
       "      <td>15308</td>\n",
       "      <td>21.99</td>\n",
       "      <td>False</td>\n",
       "      <td>0</td>\n",
       "      <td>Hi-Fi Speakers</td>\n",
       "    </tr>\n",
       "    <tr>\n",
       "      <th>3</th>\n",
       "      <td>4</td>\n",
       "      <td>B09B8T5VGV</td>\n",
       "      <td>Echo Dot with clock (5th generation, 2022 rele...</td>\n",
       "      <td>4.7</td>\n",
       "      <td>7205</td>\n",
       "      <td>31.99</td>\n",
       "      <td>False</td>\n",
       "      <td>0</td>\n",
       "      <td>Hi-Fi Speakers</td>\n",
       "    </tr>\n",
       "    <tr>\n",
       "      <th>4</th>\n",
       "      <td>5</td>\n",
       "      <td>B09WX6QD65</td>\n",
       "      <td>Introducing Echo Pop | Full sound compact Wi-F...</td>\n",
       "      <td>4.6</td>\n",
       "      <td>1881</td>\n",
       "      <td>17.99</td>\n",
       "      <td>False</td>\n",
       "      <td>0</td>\n",
       "      <td>Hi-Fi Speakers</td>\n",
       "    </tr>\n",
       "    <tr>\n",
       "      <th>...</th>\n",
       "      <td>...</td>\n",
       "      <td>...</td>\n",
       "      <td>...</td>\n",
       "      <td>...</td>\n",
       "      <td>...</td>\n",
       "      <td>...</td>\n",
       "      <td>...</td>\n",
       "      <td>...</td>\n",
       "      <td>...</td>\n",
       "    </tr>\n",
       "    <tr>\n",
       "      <th>2443646</th>\n",
       "      <td>2828589</td>\n",
       "      <td>B0CHSD7P2Q</td>\n",
       "      <td>Motorbike Armour, Motorbike Clothing, Cycling ...</td>\n",
       "      <td>0.0</td>\n",
       "      <td>0</td>\n",
       "      <td>22.34</td>\n",
       "      <td>False</td>\n",
       "      <td>0</td>\n",
       "      <td>Motorbike Clothing</td>\n",
       "    </tr>\n",
       "    <tr>\n",
       "      <th>2443647</th>\n",
       "      <td>2828590</td>\n",
       "      <td>B0B7B8FNBQ</td>\n",
       "      <td>PROFIRST Waterproof Motorcycle 2 Piece Ladies ...</td>\n",
       "      <td>0.0</td>\n",
       "      <td>0</td>\n",
       "      <td>97.99</td>\n",
       "      <td>False</td>\n",
       "      <td>0</td>\n",
       "      <td>Motorbike Clothing</td>\n",
       "    </tr>\n",
       "    <tr>\n",
       "      <th>2443648</th>\n",
       "      <td>2828591</td>\n",
       "      <td>B0BD5FL5FB</td>\n",
       "      <td>Men’s Motorcycle Motorbike Biker Trousers Kevl...</td>\n",
       "      <td>0.0</td>\n",
       "      <td>0</td>\n",
       "      <td>52.99</td>\n",
       "      <td>False</td>\n",
       "      <td>0</td>\n",
       "      <td>Motorbike Clothing</td>\n",
       "    </tr>\n",
       "    <tr>\n",
       "      <th>2443649</th>\n",
       "      <td>2828592</td>\n",
       "      <td>B008OYLL4I</td>\n",
       "      <td>Texpeed Mens Motorcycle Motorbike Biker Trouse...</td>\n",
       "      <td>4.3</td>\n",
       "      <td>404</td>\n",
       "      <td>79.99</td>\n",
       "      <td>False</td>\n",
       "      <td>0</td>\n",
       "      <td>Motorbike Clothing</td>\n",
       "    </tr>\n",
       "    <tr>\n",
       "      <th>2443650</th>\n",
       "      <td>2828593</td>\n",
       "      <td>B08P3W9B3T</td>\n",
       "      <td>RIDEX CJ223 Motorcycle Motorbike Jacket Armour...</td>\n",
       "      <td>4.5</td>\n",
       "      <td>34</td>\n",
       "      <td>53.99</td>\n",
       "      <td>False</td>\n",
       "      <td>0</td>\n",
       "      <td>Motorbike Clothing</td>\n",
       "    </tr>\n",
       "  </tbody>\n",
       "</table>\n",
       "<p>2443651 rows × 9 columns</p>\n",
       "</div>"
      ],
      "text/plain": [
       "             uid        asin  \\\n",
       "0              1  B09B96TG33   \n",
       "1              2  B01HTH3C8S   \n",
       "2              3  B09B8YWXDF   \n",
       "3              4  B09B8T5VGV   \n",
       "4              5  B09WX6QD65   \n",
       "...          ...         ...   \n",
       "2443646  2828589  B0CHSD7P2Q   \n",
       "2443647  2828590  B0B7B8FNBQ   \n",
       "2443648  2828591  B0BD5FL5FB   \n",
       "2443649  2828592  B008OYLL4I   \n",
       "2443650  2828593  B08P3W9B3T   \n",
       "\n",
       "                                                     title  stars  reviews  \\\n",
       "0        Echo Dot (5th generation, 2022 release) | Big ...    4.7    15308   \n",
       "1        Anker Soundcore mini, Super-Portable Bluetooth...    4.7    98099   \n",
       "2        Echo Dot (5th generation, 2022 release) | Big ...    4.7    15308   \n",
       "3        Echo Dot with clock (5th generation, 2022 rele...    4.7     7205   \n",
       "4        Introducing Echo Pop | Full sound compact Wi-F...    4.6     1881   \n",
       "...                                                    ...    ...      ...   \n",
       "2443646  Motorbike Armour, Motorbike Clothing, Cycling ...    0.0        0   \n",
       "2443647  PROFIRST Waterproof Motorcycle 2 Piece Ladies ...    0.0        0   \n",
       "2443648  Men’s Motorcycle Motorbike Biker Trousers Kevl...    0.0        0   \n",
       "2443649  Texpeed Mens Motorcycle Motorbike Biker Trouse...    4.3      404   \n",
       "2443650  RIDEX CJ223 Motorcycle Motorbike Jacket Armour...    4.5       34   \n",
       "\n",
       "         price  isBestSeller  boughtInLastMonth            category  \n",
       "0        21.99         False                  0      Hi-Fi Speakers  \n",
       "1        23.99          True                  0      Hi-Fi Speakers  \n",
       "2        21.99         False                  0      Hi-Fi Speakers  \n",
       "3        31.99         False                  0      Hi-Fi Speakers  \n",
       "4        17.99         False                  0      Hi-Fi Speakers  \n",
       "...        ...           ...                ...                 ...  \n",
       "2443646  22.34         False                  0  Motorbike Clothing  \n",
       "2443647  97.99         False                  0  Motorbike Clothing  \n",
       "2443648  52.99         False                  0  Motorbike Clothing  \n",
       "2443649  79.99         False                  0  Motorbike Clothing  \n",
       "2443650  53.99         False                  0  Motorbike Clothing  \n",
       "\n",
       "[2443651 rows x 9 columns]"
      ]
     },
     "execution_count": 3,
     "metadata": {},
     "output_type": "execute_result"
    }
   ],
   "source": [
    "df"
   ]
  },
  {
   "cell_type": "markdown",
   "id": "243fd264-e4e6-42b2-bc0c-8f8e3b68f2ff",
   "metadata": {},
   "source": [
    "# Part 1: Understanding Product Categories\n",
    "Business Question: What are the most popular product categories on Amazon UK, and how do they compare in terms of listing frequency?"
   ]
  },
  {
   "cell_type": "markdown",
   "id": "32502ff8-afe3-4627-adfd-5367d18fb294",
   "metadata": {},
   "source": [
    "# Frequency Tables:\n",
    "\n",
    "- Generate a frequency table for the product category.\n",
    "- Which are the top 5 most listed product categories?"
   ]
  },
  {
   "cell_type": "code",
   "execution_count": 17,
   "id": "2911084c-1dc3-49cd-9bde-bd7f10987cda",
   "metadata": {},
   "outputs": [],
   "source": [
    "frequency_table_all = df[\"category\"].value_counts()\n",
    "frequency_table = df[\"category\"].value_counts()[0:5]"
   ]
  },
  {
   "cell_type": "code",
   "execution_count": 9,
   "id": "a15bb275-465c-487d-87b2-177b8b65d94c",
   "metadata": {},
   "outputs": [
    {
     "data": {
      "text/plain": [
       "category\n",
       "Sports & Outdoors                         836265\n",
       "Beauty                                     19312\n",
       "Handmade Clothing, Shoes & Accessories     19229\n",
       "Bath & Body                                19092\n",
       "Birthday Gifts                             18978\n",
       "Name: count, dtype: int64"
      ]
     },
     "execution_count": 9,
     "metadata": {},
     "output_type": "execute_result"
    }
   ],
   "source": [
    "frequency_table"
   ]
  },
  {
   "cell_type": "markdown",
   "id": "22eacb26-b95f-4c77-83d1-c24de9218808",
   "metadata": {},
   "source": [
    "# Visualizations:\n",
    "\n",
    "- Display the distribution of products across different categories using a bar chart. If you face problems understanding the chart, do it for a subset of top categories.\n",
    "- For a subset of top categories, visualize their proportions using a pie chart. Does any category dominate the listings?"
   ]
  },
  {
   "cell_type": "code",
   "execution_count": 18,
   "id": "b9ea43be-57dc-4c19-992f-3ea8e84626c3",
   "metadata": {},
   "outputs": [
    {
     "data": {
      "text/plain": [
       "<Axes: xlabel='category'>"
      ]
     },
     "execution_count": 18,
     "metadata": {},
     "output_type": "execute_result"
    },
    {
     "data": {
      "image/png": "[encoded data removed]",
      "text/plain": [
       "<Figure size 640x480 with 1 Axes>"
      ]
     },
     "metadata": {},
     "output_type": "display_data"
    }
   ],
   "source": [
    "sns.barplot(x=frequency_table_all.index, y=frequency_table_all.values, palette=\"Set3\")"
   ]
  },
  {
   "cell_type": "code",
   "execution_count": 19,
   "id": "7f95e184-f03b-4fd6-8e7c-8cbbd298970d",
   "metadata": {},
   "outputs": [
    {
     "data": {
      "text/plain": [
       "<Axes: xlabel='category'>"
      ]
     },
     "execution_count": 19,
     "metadata": {},
     "output_type": "execute_result"
    },
    {
     "data": {
      "image/png": "[encoded data removed]",
      "text/plain": [
       "<Figure size 640x480 with 1 Axes>"
      ]
     },
     "metadata": {},
     "output_type": "display_data"
    }
   ],
   "source": [
    "sns.barplot(x=frequency_table.index, y=frequency_table.values, palette=\"Set3\")"
   ]
  },
  {
   "cell_type": "code",
   "execution_count": 20,
   "id": "01e56f96-04d8-455f-a59c-5f95223a5897",
   "metadata": {},
   "outputs": [
    {
     "data": {
      "text/plain": [
       "([<matplotlib.patches.Wedge at 0x15986f010>,\n",
       "  <matplotlib.patches.Wedge at 0x15992d150>,\n",
       "  <matplotlib.patches.Wedge at 0x15992de50>,\n",
       "  <matplotlib.patches.Wedge at 0x15992ed10>,\n",
       "  <matplotlib.patches.Wedge at 0x15992f810>],\n",
       " [Text(-1.0619894641325325, 0.2866677136886831, 'Sports & Outdoors'),\n",
       "  Text(0.9852466974708041, -0.4891716928879616, 'Beauty'),\n",
       "  Text(1.0412846831644893, -0.3545789173188805, 'Handmade Clothing, Shoes & Accessories'),\n",
       "  Text(1.0788687885174035, -0.21457431617737963, 'Bath & Body'),\n",
       "  Text(1.0976547688734235, -0.07179142267312413, 'Birthday Gifts')])"
      ]
     },
     "execution_count": 20,
     "metadata": {},
     "output_type": "execute_result"
    },
    {
     "data": {
      "image/png": "[encoded data removed]",
      "text/plain": [
       "<Figure size 640x480 with 1 Axes>"
      ]
     },
     "metadata": {},
     "output_type": "display_data"
    }
   ],
   "source": [
    "plt.pie(frequency_table.values, labels=frequency_table.index)"
   ]
  },
  {
   "cell_type": "markdown",
   "id": "2b06dc48-34f2-46dd-b02d-40b78cad5934",
   "metadata": {},
   "source": [
    "# Part 2: Delving into Product Pricing\n",
    "Business Question: How are products priced on Amazon UK, and are there specific price points or ranges that are more common?"
   ]
  },
  {
   "cell_type": "markdown",
   "id": "4e5aedb8-a4d0-4ff3-93eb-12e290f9d4ce",
   "metadata": {},
   "source": [
    "# Measures of Centrality:\n",
    "\n",
    "- Calculate the mean, median, and mode for the price of products.\n",
    "- What's the average price point of products listed? How does this compare with the most common price point (mode)?"
   ]
  },
  {
   "cell_type": "code",
   "execution_count": 21,
   "id": "a7e85ee6-530e-4a83-b970-08c55735382d",
   "metadata": {},
   "outputs": [
    {
     "data": {
      "text/plain": [
       "89.24380943923663"
      ]
     },
     "execution_count": 21,
     "metadata": {},
     "output_type": "execute_result"
    }
   ],
   "source": [
    "df.price.mean()"
   ]
  },
  {
   "cell_type": "code",
   "execution_count": 22,
   "id": "cbcf5f50-fcf3-4cda-a1e2-c0a6ed546f84",
   "metadata": {},
   "outputs": [
    {
     "data": {
      "text/plain": [
       "19.09"
      ]
     },
     "execution_count": 22,
     "metadata": {},
     "output_type": "execute_result"
    }
   ],
   "source": [
    "df.price.median()"
   ]
  },
  {
   "cell_type": "code",
   "execution_count": 23,
   "id": "36b40b66-08f6-42ae-a0f2-c14349c8d6ec",
   "metadata": {},
   "outputs": [
    {
     "data": {
      "text/plain": [
       "0    9.99\n",
       "Name: price, dtype: float64"
      ]
     },
     "execution_count": 23,
     "metadata": {},
     "output_type": "execute_result"
    }
   ],
   "source": [
    "df.price.mode()"
   ]
  },
  {
   "cell_type": "markdown",
   "id": "01d1b531-389b-48bd-8709-633289242c5d",
   "metadata": {},
   "source": [
    "The average price here is the median value, so 19.09GBP. It is higher than the modal value of 9.99GBP but it makes sense considering how positively skewed the data is."
   ]
  },
  {
   "cell_type": "markdown",
   "id": "9808519e-2d53-4608-80e2-b30554a10470",
   "metadata": {},
   "source": [
    "# Measures of Dispersion:\n",
    "\n",
    "- Determine the variance, standard deviation, range, and interquartile range for product price.\n",
    "- How varied are the product prices? Are there any indicators of a significant spread in prices?"
   ]
  },
  {
   "cell_type": "code",
   "execution_count": 25,
   "id": "8816123d-f0d3-425c-a9df-89f864d91788",
   "metadata": {},
   "outputs": [
    {
     "data": {
      "text/plain": [
       "119445.48532256528"
      ]
     },
     "execution_count": 25,
     "metadata": {},
     "output_type": "execute_result"
    }
   ],
   "source": [
    "df.price.var()"
   ]
  },
  {
   "cell_type": "code",
   "execution_count": 27,
   "id": "9b89414f-a7d0-4dab-97e4-7ce20ba3773a",
   "metadata": {},
   "outputs": [
    {
     "data": {
      "text/plain": [
       "345.60886175352226"
      ]
     },
     "execution_count": 27,
     "metadata": {},
     "output_type": "execute_result"
    }
   ],
   "source": [
    "df.price.std()"
   ]
  },
  {
   "cell_type": "code",
   "execution_count": 30,
   "id": "67e2524f-2b15-432d-af65-aada27b71ef8",
   "metadata": {},
   "outputs": [
    {
     "name": "stdout",
     "output_type": "stream",
     "text": [
      "100000.0\n"
     ]
    }
   ],
   "source": [
    "range = df.price.max() - df.price.min()\n",
    "print(range)"
   ]
  },
  {
   "cell_type": "code",
   "execution_count": 31,
   "id": "3193177e-1eb3-4ab0-837f-4dfaefaadeda",
   "metadata": {},
   "outputs": [
    {
     "name": "stdout",
     "output_type": "stream",
     "text": [
      "36.0\n"
     ]
    }
   ],
   "source": [
    "quartiles = df.price.quantile([0, 0.25, 0.5, 0.75])\n",
    "IQR = quartiles.loc[0.75] - quartiles.loc[0.25]\n",
    "print(IQR)"
   ]
  },
  {
   "cell_type": "markdown",
   "id": "58eccb83-c66f-4b3a-b0ca-634e749fd16b",
   "metadata": {},
   "source": [
    "The product prices are extremely varied if you take into account the tail end of the data which skews it so high, but compared to it the non-outliers tend to be relatively close to one anouther with an IQR of only 36 as opposed to the standard deviation of 345.6 and a range of 10000."
   ]
  },
  {
   "cell_type": "markdown",
   "id": "b06486d0-6af0-4458-82a8-a428f0a4c9a3",
   "metadata": {},
   "source": [
    "# Visualizations:\n",
    "\n",
    "- Is there a specific price range where most products fall? Plot a histogram to visualize the distribution of product prices. If its hard to read these diagrams, think why this is, and explain how it could be solved..\n",
    "- Are there products that are priced significantly higher than the rest? Use a box plot to showcase the spread and potential outliers in product pricing.\n"
   ]
  },
  {
   "cell_type": "code",
   "execution_count": 33,
   "id": "eb4002a8-2ca0-464d-a314-bebe5a83e7a3",
   "metadata": {},
   "outputs": [
    {
     "data": {
      "text/plain": [
       "(array([2.443482e+06, 1.560000e+02, 1.100000e+01, 0.000000e+00,\n",
       "        0.000000e+00, 0.000000e+00, 0.000000e+00, 1.000000e+00,\n",
       "        0.000000e+00, 1.000000e+00]),\n",
       " array([     0.,  10000.,  20000.,  30000.,  40000.,  50000.,  60000.,\n",
       "         70000.,  80000.,  90000., 100000.]),\n",
       " <BarContainer object of 10 artists>)"
      ]
     },
     "execution_count": 33,
     "metadata": {},
     "output_type": "execute_result"
    },
    {
     "data": {
      "image/png": "[encoded data removed]",
      "text/plain": [
       "<Figure size 640x480 with 1 Axes>"
      ]
     },
     "metadata": {},
     "output_type": "display_data"
    }
   ],
   "source": [
    "plt.hist(df.price, bins=10)"
   ]
  },
  {
   "cell_type": "markdown",
   "id": "2bca4adc-62fd-4645-8f02-04797053d08c",
   "metadata": {},
   "source": [
    "the data looks weird because it is extremely skewed. to get more accurate results you would plot this without the outliers, or maybe just plot what's in the interquartile range"
   ]
  },
  {
   "cell_type": "code",
   "execution_count": 34,
   "id": "7d3c95c5-f4b8-41e7-9682-f0992a4230f4",
   "metadata": {},
   "outputs": [
    {
     "data": {
      "text/plain": [
       "{'whiskers': [<matplotlib.lines.Line2D at 0x159a5cb50>,\n",
       "  <matplotlib.lines.Line2D at 0x159a5d4d0>],\n",
       " 'caps': [<matplotlib.lines.Line2D at 0x159a5de50>,\n",
       "  <matplotlib.lines.Line2D at 0x159a5e6d0>],\n",
       " 'boxes': [<matplotlib.lines.Line2D at 0x159901ad0>],\n",
       " 'medians': [<matplotlib.lines.Line2D at 0x159a5ef50>],\n",
       " 'fliers': [<matplotlib.lines.Line2D at 0x159a5f750>],\n",
       " 'means': []}"
      ]
     },
     "execution_count": 34,
     "metadata": {},
     "output_type": "execute_result"
    },
    {
     "data": {
      "image/png": "[encoded data removed]",
      "text/plain": [
       "<Figure size 640x480 with 1 Axes>"
      ]
     },
     "metadata": {},
     "output_type": "display_data"
    }
   ],
   "source": [
    "plt.boxplot(df.price)"
   ]
  },
  {
   "cell_type": "markdown",
   "id": "e0918fa6-0757-4384-bc63-5efea7e77e52",
   "metadata": {},
   "source": [
    "lolmao"
   ]
  },
  {
   "cell_type": "markdown",
   "id": "9fedaf67-b193-4ece-9ff3-15753235f304",
   "metadata": {},
   "source": [
    "# Part 3: Unpacking Product Ratings\n",
    "Business Question: How do customers rate products on Amazon UK, and are there any patterns or tendencies in the ratings?"
   ]
  },
  {
   "cell_type": "markdown",
   "id": "fbc4cd06-815e-428d-85e7-2ff53c5d7895",
   "metadata": {},
   "source": [
    "# Measures of Centrality:\n",
    "\n",
    "- Calculate the mean, median, and mode for the rating of products.\n",
    "- How do customers generally rate products? Is there a common trend?"
   ]
  },
  {
   "cell_type": "code",
   "execution_count": 38,
   "id": "c1b6ee4e-6346-4990-947c-839f425d1010",
   "metadata": {},
   "outputs": [
    {
     "data": {
      "text/plain": [
       "2.152836472966065"
      ]
     },
     "execution_count": 38,
     "metadata": {},
     "output_type": "execute_result"
    }
   ],
   "source": [
    "df.stars.mean()"
   ]
  },
  {
   "cell_type": "code",
   "execution_count": 44,
   "id": "4b4f15ce-e8ed-4e5b-aa8e-eb37256fa382",
   "metadata": {},
   "outputs": [
    {
     "data": {
      "text/plain": [
       "4.31916076222691"
      ]
     },
     "execution_count": 44,
     "metadata": {},
     "output_type": "execute_result"
    }
   ],
   "source": [
    "df[df['stars'] != 0.0]['stars'].mean()"
   ]
  },
  {
   "cell_type": "code",
   "execution_count": 39,
   "id": "fe741995-9f92-4bf6-abfd-87bf9eb64557",
   "metadata": {},
   "outputs": [
    {
     "data": {
      "text/plain": [
       "0.0"
      ]
     },
     "execution_count": 39,
     "metadata": {},
     "output_type": "execute_result"
    }
   ],
   "source": [
    "df.stars.median()"
   ]
  },
  {
   "cell_type": "code",
   "execution_count": 42,
   "id": "d78165ee-3d38-42bc-b1a7-e9767444ce97",
   "metadata": {},
   "outputs": [
    {
     "data": {
      "text/plain": [
       "4.4"
      ]
     },
     "execution_count": 42,
     "metadata": {},
     "output_type": "execute_result"
    }
   ],
   "source": [
    "df[df['stars'] != 0.0]['stars'].median()"
   ]
  },
  {
   "cell_type": "code",
   "execution_count": 40,
   "id": "4607383f-0a85-463d-be82-70481d32721b",
   "metadata": {},
   "outputs": [
    {
     "data": {
      "text/plain": [
       "0    0.0\n",
       "Name: stars, dtype: float64"
      ]
     },
     "execution_count": 40,
     "metadata": {},
     "output_type": "execute_result"
    }
   ],
   "source": [
    "df.stars.mode()"
   ]
  },
  {
   "cell_type": "code",
   "execution_count": 43,
   "id": "0b764e61-68ba-47f7-86b8-b3bf188b61e5",
   "metadata": {},
   "outputs": [
    {
     "data": {
      "text/plain": [
       "0    4.5\n",
       "Name: stars, dtype: float64"
      ]
     },
     "execution_count": 43,
     "metadata": {},
     "output_type": "execute_result"
    }
   ],
   "source": [
    "df[df['stars'] != 0.0]['stars'].mode()"
   ]
  },
  {
   "cell_type": "markdown",
   "id": "d6cc6207-766d-42ce-a83e-b3819fccbc02",
   "metadata": {},
   "source": [
    "most products remain unrated, hence why the median and modal values equal to zero. From the actually reviewed products, the ratings tend to be quite high with the mean being 4.3 stars and the median and mode are 4.4 and 4.5 respectively."
   ]
  },
  {
   "cell_type": "markdown",
   "id": "6f07bfdf-ae87-4620-b54c-9361c896637e",
   "metadata": {},
   "source": [
    "# Measures of Dispersion:\n",
    "\n",
    "- Determine the variance, standard deviation, and interquartile range for product rating.\n",
    "- Are the ratings consistent, or is there a wide variation in customer feedback?"
   ]
  },
  {
   "cell_type": "code",
   "execution_count": 50,
   "id": "c0124bc7-6566-41b8-a03e-7820f941114c",
   "metadata": {},
   "outputs": [
    {
     "data": {
      "text/plain": [
       "0.3083433752380519"
      ]
     },
     "execution_count": 50,
     "metadata": {},
     "output_type": "execute_result"
    }
   ],
   "source": [
    "df[df['stars'] != 0.0]['stars'].var()"
   ]
  },
  {
   "cell_type": "code",
   "execution_count": 49,
   "id": "a714c0c5-2bc2-457c-a8a4-7393585b7089",
   "metadata": {},
   "outputs": [
    {
     "data": {
      "text/plain": [
       "0.5552867504614637"
      ]
     },
     "execution_count": 49,
     "metadata": {},
     "output_type": "execute_result"
    }
   ],
   "source": [
    "df[df['stars'] != 0.0]['stars'].std()"
   ]
  },
  {
   "cell_type": "code",
   "execution_count": 51,
   "id": "6182cb4b-0bc1-4ca2-902b-366e45211322",
   "metadata": {},
   "outputs": [
    {
     "name": "stdout",
     "output_type": "stream",
     "text": [
      "0.5\n"
     ]
    }
   ],
   "source": [
    "quartiles = df[df['stars'] != 0.0]['stars'].quantile([0, 0.25, 0.5, 0.75])\n",
    "IQR = quartiles.loc[0.75] - quartiles.loc[0.25]\n",
    "print(IQR)"
   ]
  },
  {
   "cell_type": "markdown",
   "id": "5c0779a8-53e3-4c96-bce2-e861cd6740a1",
   "metadata": {},
   "source": [
    "for the actually rated products, the reviews tend to be concentrated in one area hence the values above this statement. It would be safe to say that the ratings are consistent."
   ]
  },
  {
   "cell_type": "markdown",
   "id": "96c26ec2-6d4c-453c-afa7-14371eddcfaf",
   "metadata": {},
   "source": [
    "# Shape of the Distribution:\n",
    "\n",
    "- Calculate the skewness and kurtosis for the rating column.\n",
    "- Are the ratings normally distributed, or do they lean towards higher or lower values?"
   ]
  },
  {
   "cell_type": "code",
   "execution_count": 52,
   "id": "39069c68-b67f-412f-8599-80c7337d621b",
   "metadata": {},
   "outputs": [
    {
     "data": {
      "text/plain": [
       "0.08120735761080985"
      ]
     },
     "execution_count": 52,
     "metadata": {},
     "output_type": "execute_result"
    }
   ],
   "source": [
    "df.stars.skew()"
   ]
  },
  {
   "cell_type": "code",
   "execution_count": 53,
   "id": "e92c201c-5b1a-4d31-9dfc-98bb9894f95c",
   "metadata": {},
   "outputs": [
    {
     "data": {
      "text/plain": [
       "-1.9260061280432985"
      ]
     },
     "execution_count": 53,
     "metadata": {},
     "output_type": "execute_result"
    }
   ],
   "source": [
    "df.stars.kurtosis()"
   ]
  },
  {
   "cell_type": "markdown",
   "id": "830342c2-7904-4866-b4d0-5bc0aa46a4f9",
   "metadata": {},
   "source": [
    "The data has a negative kurtosis which means that it has shorter tails than a normal distribution, and with a skewness index of 0.08 it means that the data is slightly positively skewed, but it's very close to zero so it's almost symmetrical."
   ]
  },
  {
   "cell_type": "markdown",
   "id": "326c8987-4881-476f-8048-b9d181484ce4",
   "metadata": {},
   "source": [
    "# Visualizations:\n",
    "\n",
    "- Plot a histogram to visualize the distribution of product ratings. Is there a specific rating that is more common?"
   ]
  },
  {
   "cell_type": "code",
   "execution_count": 56,
   "id": "09448f96-1871-4fdb-88ec-05c2e5a90780",
   "metadata": {},
   "outputs": [
    {
     "data": {
      "text/plain": [
       "<Axes: >"
      ]
     },
     "execution_count": 56,
     "metadata": {},
     "output_type": "execute_result"
    },
    {
     "data": {
      "image/png": "[encoded data removed]",
      "text/plain": [
       "<Figure size 1500x2000 with 1 Axes>"
      ]
     },
     "metadata": {},
     "output_type": "display_data"
    }
   ],
   "source": [
    "df.stars.hist(figsize=(15, 20), bins=20, xlabelsize=10, ylabelsize=10)"
   ]
  },
  {
   "cell_type": "markdown",
   "id": "bdc368ac-2635-4fb2-9477-091acc7f8d17",
   "metadata": {},
   "source": [
    "the most common value here is the one corresponding to unrated products. If you exclude it, the histogram would look like this: "
   ]
  },
  {
   "cell_type": "code",
   "execution_count": 57,
   "id": "79a943b8-a266-4c70-8d2f-ccaaa5e5a725",
   "metadata": {},
   "outputs": [
    {
     "data": {
      "text/plain": [
       "<Axes: >"
      ]
     },
     "execution_count": 57,
     "metadata": {},
     "output_type": "execute_result"
    },
    {
     "data": {
      "image/png": "[encoded data removed]",
      "text/plain": [
       "<Figure size 1500x2000 with 1 Axes>"
      ]
     },
     "metadata": {},
     "output_type": "display_data"
    }
   ],
   "source": [
    "df[df[\"stars\"] != 0].stars.hist(figsize=(15, 20), bins=20, xlabelsize=10, ylabelsize=10)"
   ]
  },
  {
   "cell_type": "markdown",
   "id": "c2f06920-f067-4988-a09d-69399233d5a5",
   "metadata": {},
   "source": [
    "so we can conclude that the most common rating hovers around 4.5 stars. "
   ]
  },
  {
   "cell_type": "code",
   "execution_count": null,
   "id": "0e927703-d21e-4f14-bb46-886d44ad2ef5",
   "metadata": {},
   "outputs": [],
   "source": []
  }
 ],
 "metadata": {
  "kernelspec": {
   "display_name": "Python 3 (ipykernel)",
   "language": "python",
   "name": "python3"
  },
  "language_info": {
   "codemirror_mode": {
    "name": "ipython",
    "version": 3
   },
   "file_extension": ".py",
   "mimetype": "text/x-python",
   "name": "python",
   "nbconvert_exporter": "python",
   "pygments_lexer": "ipython3",
   "version": "3.11.5"
  }
 },
 "nbformat": 4,
 "nbformat_minor": 5
}
